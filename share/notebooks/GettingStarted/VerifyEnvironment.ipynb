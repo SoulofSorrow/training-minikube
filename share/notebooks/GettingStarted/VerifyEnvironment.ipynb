{
 "cells": [
  {
   "cell_type": "markdown",
   "id": "incoming-adolescent",
   "metadata": {},
   "source": [
    "# Check tools\n",
    "\n",
    "These checks shall not fail. Please select \"cell\" and press `<Shift><Enter>` to execute the command."
   ]
  },
  {
   "cell_type": "code",
   "execution_count": null,
   "id": "trying-steering",
   "metadata": {},
   "outputs": [],
   "source": [
    "cat /etc/os-release"
   ]
  },
  {
   "cell_type": "code",
   "execution_count": null,
   "id": "announced-elimination",
   "metadata": {},
   "outputs": [],
   "source": [
    "which bash"
   ]
  },
  {
   "cell_type": "code",
   "execution_count": null,
   "id": "northern-bandwidth",
   "metadata": {},
   "outputs": [],
   "source": [
    "which kubectl"
   ]
  },
  {
   "cell_type": "code",
   "execution_count": null,
   "id": "established-mandate",
   "metadata": {},
   "outputs": [],
   "source": [
    "# get client AND server version\n",
    "kubectl version"
   ]
  },
  {
   "cell_type": "code",
   "execution_count": null,
   "id": "closed-motel",
   "metadata": {},
   "outputs": [],
   "source": [
    "kubectl get namespaces"
   ]
  },
  {
   "cell_type": "code",
   "execution_count": null,
   "id": "defined-submission",
   "metadata": {},
   "outputs": [],
   "source": [
    "kubectl get pods -n kube-system"
   ]
  },
  {
   "cell_type": "code",
   "execution_count": null,
   "id": "interpreted-translator",
   "metadata": {},
   "outputs": [],
   "source": []
  }
 ],
 "metadata": {
  "kernelspec": {
   "display_name": "Bash",
   "language": "bash",
   "name": "bash"
  },
  "language_info": {
   "codemirror_mode": "shell",
   "file_extension": ".sh",
   "mimetype": "text/x-sh",
   "name": "bash"
  }
 },
 "nbformat": 4,
 "nbformat_minor": 5
}
